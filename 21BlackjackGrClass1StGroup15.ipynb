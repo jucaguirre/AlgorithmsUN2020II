{
  "nbformat": 4,
  "nbformat_minor": 0,
  "metadata": {
    "colab": {
      "name": "21BlackjackGrClass1StGroup15.ipynb",
      "provenance": [],
      "collapsed_sections": []
    },
    "kernelspec": {
      "name": "python3",
      "display_name": "Python 3"
    }
  },
  "cells": [
    {
      "cell_type": "code",
      "metadata": {
        "id": "_gkVwrU_EK0Z"
      },
      "source": [
        "import random as r\n",
        "import numpy as np\n",
        "import matplotlib.pyplot as plt"
      ],
      "execution_count": 1,
      "outputs": []
    },
    {
      "cell_type": "code",
      "metadata": {
        "id": "UmCo5ZdQcma5"
      },
      "source": [
        "def imprimirHisto(hist, min, max):\n",
        "  plt.bar(list(range(min, max)), hist[min:max], align='center', width=0.9)\n",
        "  plt.xlabel('Numero de cartas')\n",
        "  plt.xticks(list(range(min, max)))\n",
        "  plt.title('distribucion experimental: obtener 21')\n",
        "  plt.show()"
      ],
      "execution_count": 2,
      "outputs": []
    },
    {
      "cell_type": "code",
      "metadata": {
        "id": "UmFbqbU5bB0X"
      },
      "source": [
        "def calcularProbabilidad(cartas, n, sumaInicial=0):\n",
        " cont = 0\n",
        " DistribucionDeCartas = [0]*11\n",
        " minDistribucion = 11\n",
        " maxDistribucion = 1\n",
        " for i in range(n):\n",
        "    copiaCarta = cartas.copy()\n",
        "    sum = sumaInicial\n",
        "    cantidadCartas = 0\n",
        "    while sum < 21:\n",
        "      choice = r.choice(copiaCarta)\n",
        "      copiaCarta.remove(choice)\n",
        "      sum += choice\n",
        "      cantidadCartas += 1\n",
        "    if sum == 21:\n",
        "        minDistribucion = cantidadCartas if cantidadCartas < minDistribucion else minDistribucion\n",
        "        maxDistribucion = cantidadCartas if cantidadCartas >   maxDistribucion else   maxDistribucion\n",
        "        DistribucionDeCartas[cantidadCartas] += 1\n",
        "        cont += 1\n",
        "\n",
        " imprimirHisto( DistribucionDeCartas, minDistribucion,   maxDistribucion)\n",
        " return cont/n\n",
        "\n"
      ],
      "execution_count": 3,
      "outputs": []
    },
    {
      "cell_type": "code",
      "metadata": {
        "id": "jR2nCODrU9uR"
      },
      "source": [
        "def compute_half_deck(cartas):\n",
        "  cartas=cartas*4\n",
        "  l = len(cartas)\n",
        "  cartas.remove(7)\n",
        "  cartas.remove(7)\n",
        "  cartas.remove(5)\n",
        "  opciones = []\n",
        "  for c in range(0, int(l/2) - 3):\n",
        "    opcion = r.choice(cartas)\n",
        "    opciones.append(opcion)\n",
        "    cartas.remove(opcion)\n",
        "  return cartas;"
      ],
      "execution_count": 4,
      "outputs": []
    },
    {
      "cell_type": "markdown",
      "metadata": {
        "id": "kzZ9swODwQfU"
      },
      "source": [
        "# 1. 1. Calcule la probabilidad de obtener 21.  baraja española con valores de cartas.\n",
        "1. (a): Cards=[1,2,3,4,5,6,7,10,11,12]"
      ]
    },
    {
      "cell_type": "code",
      "metadata": {
        "id": "PUjgbGh8eh23",
        "outputId": "76113efd-e047-45e8-bbed-06addc7f51c6",
        "colab": {
          "base_uri": "https://localhost:8080/",
          "height": 313
        }
      },
      "source": [
        "print(\"Probabilidad con baraja española: \", calcularProbabilidad (list(range(1,13))*4, n=10000))"
      ],
      "execution_count": null,
      "outputs": [
        {
          "output_type": "display_data",
          "data": {
            "image/png": "[encoded data removed]",
            "text/plain": [
              "<Figure size 432x288 with 1 Axes>"
            ]
          },
          "metadata": {
            "tags": [],
            "needs_background": "light"
          }
        },
        {
          "output_type": "stream",
          "text": [
            "Probabilidad con baraja española:  0.1567\n"
          ],
          "name": "stdout"
        }
      ]
    },
    {
      "cell_type": "markdown",
      "metadata": {
        "id": "dIzISsJ7fHhe"
      },
      "source": [
        "1. (b): Cards=[1,2,3,4,5,6,7,10,11,12,13]\n"
      ]
    },
    {
      "cell_type": "code",
      "metadata": {
        "id": "CNIO2ie5fNDw",
        "outputId": "550af37a-69e3-45c5-9822-16fdc131cf9b",
        "colab": {
          "base_uri": "https://localhost:8080/",
          "height": 313
        }
      },
      "source": [
        "print(\"probabilidad con baraja de poker: \",calcularProbabilidad(list(range(1,14))*4,n=100000))"
      ],
      "execution_count": null,
      "outputs": [
        {
          "output_type": "display_data",
          "data": {
            "image/png": "[encoded data removed]",
            "text/plain": [
              "<Figure size 432x288 with 1 Axes>"
            ]
          },
          "metadata": {
            "tags": [],
            "needs_background": "light"
          }
        },
        {
          "output_type": "stream",
          "text": [
            "probabilidad con baraja de poker:  0.1436\n"
          ],
          "name": "stdout"
        }
      ]
    },
    {
      "cell_type": "markdown",
      "metadata": {
        "id": "Y1l9NsD-fFuE"
      },
      "source": [
        "# 2. Calcule la probabilidad de obtener 21.  baraja española con valores de cartas.\n"
      ]
    },
    {
      "cell_type": "markdown",
      "metadata": {
        "id": "RisLLYmwMkds"
      },
      "source": [
        "2 (a) Deck=[1,2,3,4,5,6,7,8,9,10,10,10]\n",
        "\n"
      ]
    },
    {
      "cell_type": "code",
      "metadata": {
        "id": "bc2NjmPzfo4k",
        "outputId": "f6270219-661c-4e3b-be75-09a71aa35254",
        "colab": {
          "base_uri": "https://localhost:8080/",
          "height": 313
        }
      },
      "source": [
        "print(\"probabilidad: \",calcularProbabilidad ([1,2,3,4,5,6,7,8,9,10,10,10]*4,n=10000))"
      ],
      "execution_count": null,
      "outputs": [
        {
          "output_type": "display_data",
          "data": {
            "image/png": "[encoded data removed]",
            "text/plain": [
              "<Figure size 432x288 with 1 Axes>"
            ]
          },
          "metadata": {
            "tags": [],
            "needs_background": "light"
          }
        },
        {
          "output_type": "stream",
          "text": [
            "Probablity:  0.1497\n"
          ],
          "name": "stdout"
        }
      ]
    },
    {
      "cell_type": "markdown",
      "metadata": {
        "id": "tM0v7aRWgyKU"
      },
      "source": [
        "2 (b) Deck=[1,2,3,4,5,6,7,8,9,10,10,10,10]"
      ]
    },
    {
      "cell_type": "code",
      "metadata": {
        "id": "6Z_bY_9Zg-Jl",
        "outputId": "41160087-20ba-4fbe-d1f4-f2016b7b589e",
        "colab": {
          "base_uri": "https://localhost:8080/",
          "height": 313
        }
      },
      "source": [
        "print(\"probabilidad: \",calcularProbabilidad ([1,2,3,4,5,6,7,8,9,10,10,10,10]*4,n=10000))"
      ],
      "execution_count": null,
      "outputs": [
        {
          "output_type": "display_data",
          "data": {
            "image/png": "[encoded data removed]",
            "text/plain": [
              "<Figure size 432x288 with 1 Axes>"
            ]
          },
          "metadata": {
            "tags": [],
            "needs_background": "light"
          }
        },
        {
          "output_type": "stream",
          "text": [
            "probabilidad:  0.1347\n"
          ],
          "name": "stdout"
        }
      ]
    },
    {
      "cell_type": "markdown",
      "metadata": {
        "id": "raWVSz9dkFnE"
      },
      "source": [
        "# 3. Encuentra mazos restantes para mazos de cartas de español y poker\n",
        "3 (a) Cartas=[1,2,3,4,5,6,7,10,11,12]"
      ]
    },
    {
      "cell_type": "code",
      "metadata": {
        "id": "E40MIERUiVeP",
        "outputId": "04c26914-6dc6-4bf0-f4cf-87b1c401d970",
        "colab": {
          "base_uri": "https://localhost:8080/",
          "height": 296
        }
      },
      "source": [
        "cartas=[1,2,3,4,5,6,7,8,9,10,11,12]\n",
        "cartas=compute_half_deck(cartas)\n",
        "print(\"probabilidad: \", calcularProbabilidad (cartas, n=10000, sumaInicial=19))"
      ],
      "execution_count": null,
      "outputs": [
        {
          "output_type": "display_data",
          "data": {
            "image/png": "[encoded data removed]",
            "text/plain": [
              "<Figure size 432x288 with 1 Axes>"
            ]
          },
          "metadata": {
            "tags": [],
            "needs_background": "light"
          }
        },
        {
          "output_type": "stream",
          "text": [
            "probabilidad:  0.0855\n"
          ],
          "name": "stdout"
        }
      ]
    },
    {
      "cell_type": "markdown",
      "metadata": {
        "id": "a__bUGV0kTCl"
      },
      "source": [
        "3 (b) Cards=[1,2,3,4,5,6,7,10,11,12,13]"
      ]
    },
    {
      "cell_type": "code",
      "metadata": {
        "id": "3-ZewNSYjylE",
        "outputId": "e692ef45-fdfa-4ee1-d1a6-9cb57c562982",
        "colab": {
          "base_uri": "https://localhost:8080/",
          "height": 296
        }
      },
      "source": [
        "cards=compute_half_deck([1,2,3,4,5,6,7,8,9,10,11,12,13])\n",
        "print(\"Probabilidad: \", calcularProbabilidad (cartas, n=10000, sumaInicial=19))"
      ],
      "execution_count": null,
      "outputs": [
        {
          "output_type": "display_data",
          "data": {
            "image/png": "[encoded data removed]",
            "text/plain": [
              "<Figure size 432x288 with 1 Axes>"
            ]
          },
          "metadata": {
            "tags": [],
            "needs_background": "light"
          }
        },
        {
          "output_type": "stream",
          "text": [
            "Probabilidad:  0.088\n"
          ],
          "name": "stdout"
        }
      ]
    },
    {
      "cell_type": "markdown",
      "metadata": {
        "id": "-_pG_eAyfEyA"
      },
      "source": [
        "# 4. Encuentra mazos restantes para mazos de cartas de español y poker"
      ]
    },
    {
      "cell_type": "code",
      "metadata": {
        "id": "L7usWFYGWreD"
      },
      "source": [
        "hot_deck = [2,1]*4\n",
        "cold_deck = [10,11, 12]*4"
      ],
      "execution_count": 25,
      "outputs": []
    },
    {
      "cell_type": "code",
      "metadata": {
        "id": "FedlmCNUxok2"
      },
      "source": [
        "def calc(cartas, n, sumaInicial=0):\n",
        " cont = 0\n",
        " DistribucionDeCartas = [0]*11\n",
        " minDistribucion = 0\n",
        " maxDistribucion = 11\n",
        " for i in range(n):\n",
        "    copiaCarta = cartas.copy()\n",
        "    sum = sumaInicial\n",
        "    cantidadCartas = 3\n",
        "    while sum < 21:\n",
        "      choice = r.choice(copiaCarta)\n",
        "      copiaCarta.remove(choice)\n",
        "      sum += choice\n",
        "      cantidadCartas += 1\n",
        "    if sum == 21:\n",
        "        DistribucionDeCartas[cantidadCartas] += 1\n",
        "        cont += 1\n",
        "\n",
        " imprimirHisto( DistribucionDeCartas, minDistribucion,   maxDistribucion)\n",
        " return cont/n"
      ],
      "execution_count": 49,
      "outputs": []
    },
    {
      "cell_type": "code",
      "metadata": {
        "id": "sNCtXnUmW6ij",
        "outputId": "71678e43-f22d-4611-ca95-7a580f580a81",
        "colab": {
          "base_uri": "https://localhost:8080/",
          "height": 313
        }
      },
      "source": [
        "print(\"Probablida con mazo caliente: \", calc(hot_deck, n=10000, sumaInicial=19))"
      ],
      "execution_count": 51,
      "outputs": [
        {
          "output_type": "display_data",
          "data": {
            "image/png": "[encoded data removed]",
            "text/plain": [
              "<Figure size 432x288 with 1 Axes>"
            ]
          },
          "metadata": {
            "tags": [],
            "needs_background": "light"
          }
        },
        {
          "output_type": "stream",
          "text": [
            "Probablida con mazo caliente:  0.7126\n"
          ],
          "name": "stdout"
        }
      ]
    },
    {
      "cell_type": "code",
      "metadata": {
        "id": "eGsi4smdXE5k",
        "outputId": "3c01b080-eef2-4d79-80e1-908ae45ef3fa",
        "colab": {
          "base_uri": "https://localhost:8080/",
          "height": 296
        }
      },
      "source": [
        "print(\"Probablida con mazo frio: \", calcularProbabilidad(cold_deck, n=10000, sumaInicial= 19))"
      ],
      "execution_count": 52,
      "outputs": [
        {
          "output_type": "display_data",
          "data": {
            "image/png": "[encoded data removed]",
            "text/plain": [
              "<Figure size 432x288 with 1 Axes>"
            ]
          },
          "metadata": {
            "tags": [],
            "needs_background": "light"
          }
        },
        {
          "output_type": "stream",
          "text": [
            "Probablida con mazo frio:  0.0\n"
          ],
          "name": "stdout"
        }
      ]
    },
    {
      "cell_type": "code",
      "metadata": {
        "id": "8QJbJoiDXx32"
      },
      "source": [
        "hot_deck = [1,2,3]*4\n",
        "cold_deck = [11,12,13]*4"
      ],
      "execution_count": 53,
      "outputs": []
    },
    {
      "cell_type": "code",
      "metadata": {
        "id": "hxDemGYdX453",
        "outputId": "16265ffa-be98-4668-8533-a31e86d49e40",
        "colab": {
          "base_uri": "https://localhost:8080/",
          "height": 313
        }
      },
      "source": [
        "print(\"Probablida con mazo caliente: \", calc (hot_deck, n=10000, sumaInicial= 19))"
      ],
      "execution_count": 54,
      "outputs": [
        {
          "output_type": "display_data",
          "data": {
            "image/png": "[encoded data removed]",
            "text/plain": [
              "<Figure size 432x288 with 1 Axes>"
            ]
          },
          "metadata": {
            "tags": [],
            "needs_background": "light"
          }
        },
        {
          "output_type": "stream",
          "text": [
            "Probablida con mazo caliente:  0.4154\n"
          ],
          "name": "stdout"
        }
      ]
    },
    {
      "cell_type": "code",
      "metadata": {
        "id": "76NDT9AjX6zv",
        "outputId": "b01b0ebe-3881-455a-ba80-5251c40d2b29",
        "colab": {
          "base_uri": "https://localhost:8080/",
          "height": 296
        }
      },
      "source": [
        " print(\"Probablida con mazo frio: \", calcularProbabilidad(cold_deck, n=10000, sumaInicial=19))"
      ],
      "execution_count": 55,
      "outputs": [
        {
          "output_type": "display_data",
          "data": {
            "image/png": "[encoded data removed]",
            "text/plain": [
              "<Figure size 432x288 with 1 Axes>"
            ]
          },
          "metadata": {
            "tags": [],
            "needs_background": "light"
          }
        },
        {
          "output_type": "stream",
          "text": [
            "Probablida con mazo frio:  0.0\n"
          ],
          "name": "stdout"
        }
      ]
    },
    {
      "cell_type": "markdown",
      "metadata": {
        "id": "zm8t2v_l89Zy"
      },
      "source": [
        "#5. Ben va a Las Vegas\n",
        "¿Cuál es la cantidad estimada de dinero que Ben gana o pierde en un fin de semana estimado con 10 millones de simulaciones usando los mazos de cartas españolas y de poker?\n"
      ]
    },
    {
      "cell_type": "markdown",
      "metadata": {
        "id": "-X3eK4JUeXMd"
      },
      "source": [
        "\n",
        "Analisis\n",
        "\n",
        "Son 30 horas de juego todos los fines de semana. 3 * 10 = 30 horas\n",
        "Equivale a 1800 minutos. 30 * 60 = 1800 minutos\n",
        "Equivale a 600 juegos cada fin de semana (los tres días). 1800 minutos / 3 minutos por juego = 600 juegos"
      ]
    },
    {
      "cell_type": "code",
      "metadata": {
        "id": "VmwviY64ly4p"
      },
      "source": [
        "def bet_play(cards, games, initial_sum, prob_deck=None):\n",
        "  #Cards data\n",
        "  count = 0\n",
        "  cards_distribution = []\n",
        "  min_distribution = 11\n",
        "  max_distribution = 1\n",
        "  average_cards = [] \n",
        "\n",
        "  #Money data\n",
        "  money_bet = 1000\n",
        "  money_earned = 0\n",
        "\n",
        "  for j in range(n): #Simulating 10 million times\n",
        "    cards_distribution = [] #Every weekend, the cards distribution is resetted\n",
        "    count = 0 #How many times you get 21 in a weekend\n",
        "    for i in range(games): #This loop represents 600 games, which is 1 weekend of gambling\n",
        "      if prob_deck == 's':\n",
        "        cards = get_deck_for_spanish()\n",
        "      elif prob_deck == 'p':\n",
        "        cards = get_deck_for_poker()\n",
        "      cards_copy = cards.copy()\n",
        "      sum_cards = initial_sum\n",
        "      cards_count = 0\n",
        "      while sum_cards < 21:\n",
        "        choice = r.choice(cards_copy)\n",
        "        cards_copy.remove(choice)\n",
        "        sum_cards += choice\n",
        "        cards_count += 1\n",
        "      if sum_cards == 21:\n",
        "        min_distribution = cards_count if cards_count < min_distribution else min_distribution\n",
        "        max_distribution = cards_count if cards_count > max_distribution else max_distribution\n",
        "        cards_distribution.append(cards_count)\n",
        "        count += 1\n",
        "        money_earned += (money_bet * 12) #Assuming you earn three times what you bet\n",
        "    if count != 0:\n",
        "      average_cards.append( sum(cards_distribution) / count ) #Every weekend you get average cards. This accumulates the averages.\n",
        "    else:\n",
        "      average_cards.append(0)\n",
        "  #print_histogram(cards_distribution, min_distribution, max_distribution)\n",
        "  \n",
        "  return (money_earned / n, average_cards) #Returns (average of money earned on a weekend, distribution of the average of cards to get 21)"
      ],
      "execution_count": null,
      "outputs": []
    },
    {
      "cell_type": "code",
      "metadata": {
        "id": "paUm-DrYls7P"
      },
      "source": [
        "def hist(datos,xlabel,ylabel, color): \n",
        "  plt.hist(datos, bins='auto', facecolor=color)\n",
        "  plt.xlabel = xlabel\n",
        "  plt.ylabel = ylabel\n",
        "  plt.show()"
      ],
      "execution_count": null,
      "outputs": []
    },
    {
      "cell_type": "code",
      "metadata": {
        "id": "zysXF6aMBlBc"
      },
      "source": [
        "def get_deck_for_spanish():\n",
        "  hot = [1, 1, 2, 3, 3, 3, 3, 4, 4, 4, 4, 5]\n",
        "  cold = [1, 2, 3, 4, 5, 6, 7, 8, 9, 10, 11, 12] * 4\n",
        "  n = r.randint(0,10)\n",
        "  if n == 0:\n",
        "    return hot\n",
        "  return cold"
      ],
      "execution_count": null,
      "outputs": []
    },
    {
      "cell_type": "code",
      "metadata": {
        "id": "cX54s2N4B7Pj"
      },
      "source": [
        "def get_deck_for_poker():\n",
        "  hot = [1, 1, 2, 3, 3, 3, 3, 4, 4, 4, 4, 5]\n",
        "  cold = [1, 2, 3, 4, 5, 6, 7, 8, 9, 10, 11, 12, 13] * 4\n",
        "  n = r.randint(0,10)\n",
        "  if n == 0:\n",
        "    return hot\n",
        "  return cold"
      ],
      "execution_count": null,
      "outputs": []
    },
    {
      "cell_type": "markdown",
      "metadata": {
        "id": "ISiF0EJZSqoi"
      },
      "source": [
        "**SPANISH deck**"
      ]
    },
    {
      "cell_type": "code",
      "metadata": {
        "id": "1rnzq4ryWYlM"
      },
      "source": [
        "#Data\n",
        "n = 10000\n",
        "initial_sum = 0 # Having nothing\n",
        "games_per_weekend = 600"
      ],
      "execution_count": null,
      "outputs": []
    },
    {
      "cell_type": "code",
      "metadata": {
        "id": "Qk42bJjvWhyR",
        "outputId": "845da3c5-957e-4063-ebad-becc6ae75ea7",
        "colab": {
          "base_uri": "https://localhost:8080/",
          "height": 51
        }
      },
      "source": [
        "#Results\n",
        "simulation = bet_play([], games_per_weekend, initial_sum, prob_deck='s') \n",
        "money_earned = simulation[0]\n",
        "distribution = simulation[1]\n",
        "print(\"Money Earned: %d\"%(money_earned))\n",
        "print(\"Average cards to get 21: \", sum(distribution) / len(distribution) ) #Sums all averages, divides into number of them. This is:  the average of the averages of cards to get 21"
      ],
      "execution_count": null,
      "outputs": [
        {
          "output_type": "stream",
          "text": [
            "Money Earned: 1245325\n",
            "Average cards to get 21:  3.996176218299922\n"
          ],
          "name": "stdout"
        }
      ]
    },
    {
      "cell_type": "code",
      "metadata": {
        "id": "6vk-hou6dqOD",
        "outputId": "4ccc77c0-0526-438d-dc7e-8512720c48ab",
        "colab": {
          "base_uri": "https://localhost:8080/",
          "height": 265
        }
      },
      "source": [
        "#Histogram cold deck\n",
        "xlabel='Número de cartas obtenidas para obtener 21'\n",
        "ylabel='Cantidad de repeticiones'\n",
        "color='blue'\n",
        "hist(distribution, xlabel, ylabel, color)"
      ],
      "execution_count": null,
      "outputs": [
        {
          "output_type": "display_data",
          "data": {
            "image/png": "[encoded data removed]",
            "text/plain": [
              "<Figure size 432x288 with 1 Axes>"
            ]
          },
          "metadata": {
            "tags": [],
            "needs_background": "light"
          }
        }
      ]
    },
    {
      "cell_type": "markdown",
      "metadata": {
        "id": "G4eMgJZXr8zC"
      },
      "source": [
        "**POKER deck**"
      ]
    },
    {
      "cell_type": "code",
      "metadata": {
        "id": "QjftOempspTs"
      },
      "source": [
        "#Data\n",
        "n = 10000\n",
        "initial_sum = 0 # Having nothing\n",
        "games_per_weekend = 600"
      ],
      "execution_count": null,
      "outputs": []
    },
    {
      "cell_type": "code",
      "metadata": {
        "id": "77Im0HHMswkT",
        "outputId": "ec5227f2-d9ae-490b-b660-dcbf7ef682fc",
        "colab": {
          "base_uri": "https://localhost:8080/",
          "height": 51
        }
      },
      "source": [
        "#Results\n",
        "simulation = bet_play([], games_per_weekend, initial_sum, prob_deck='p') \n",
        "money_earned = simulation[0]\n",
        "distribution = simulation[1]\n",
        "print(\"Money Earned: %d\"%(money_earned))\n",
        "print(\"Average cards to get 21: \", sum(distribution) / len(distribution)) #Sums all averages, divides into number of them. This is:  the average of the averages of cards to get 21"
      ],
      "execution_count": null,
      "outputs": [
        {
          "output_type": "stream",
          "text": [
            "Money Earned: 1158174\n",
            "Average cards to get 21:  3.8772651390636996\n"
          ],
          "name": "stdout"
        }
      ]
    }
  ]
}