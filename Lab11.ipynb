{
  "nbformat": 4,
  "nbformat_minor": 0,
  "metadata": {
    "colab": {
      "name": "Lab11A_Ehab.ipynb",
      "provenance": [],
      "collapsed_sections": [],
      "include_colab_link": true
    },
    "kernelspec": {
      "name": "python3",
      "display_name": "Python 3"
    }
  },
  "cells": [
    {
      "cell_type": "markdown",
      "metadata": {
        "id": "view-in-github",
        "colab_type": "text"
      },
      "source": [
        "<a href=\"https://colab.research.google.com/github/jucaguirrero/AlgorithmsUN2020II/blob/master/Lab11.ipynb\" target=\"_parent\"><img src=\"https://colab.research.google.com/assets/colab-badge.svg\" alt=\"Open In Colab\"/></a>"
      ]
    },
    {
      "cell_type": "markdown",
      "metadata": {
        "id": "Z95MuQExpE8D"
      },
      "source": [
        "Grupo 15\r\n",
        "julio cesar aguirre rojas \r\n",
        "santiago arias bareño\r\n",
        "Adriano Ramon Hernandez"
      ]
    },
    {
      "cell_type": "code",
      "metadata": {
        "id": "Y6l-eqeMqA4e",
        "colab": {
          "base_uri": "https://localhost:8080/"
        },
        "outputId": "c31611cd-d5b8-4b2e-b7a9-dd7f06b7aca0"
      },
      "source": [
        ""
      ],
      "execution_count": 3,
      "outputs": [
        {
          "output_type": "execute_result",
          "data": {
            "text/plain": [
              "21"
            ]
          },
          "metadata": {
            "tags": []
          },
          "execution_count": 3
        }
      ]
    },
    {
      "cell_type": "code",
      "metadata": {
        "colab": {
          "base_uri": "https://localhost:8080/"
        },
        "id": "-X31LHb80gI-",
        "outputId": "73c9781a-dd51-4e98-9f78-b040ee4d1bc7"
      },
      "source": [
        "x = int(input())\r\n",
        "if x==1:\r\n",
        "  print(-1)\r\n",
        "else:\r\n",
        "  a = int(x/2 +1)\r\n",
        "  b = 0\r\n",
        "  for i in range(2, int(a/2)):\r\n",
        "    if a%i == 0:\r\n",
        "      b = a/i\r\n",
        "      b= int(b) \r\n",
        "  if b==0:\r\n",
        "    b = a\r\n",
        "  print(a,b)\r\n"
      ],
      "execution_count": 4,
      "outputs": [
        {
          "output_type": "stream",
          "text": [
            "2\n",
            "2 2\n"
          ],
          "name": "stdout"
        }
      ]
    },
    {
      "cell_type": "code",
      "metadata": {
        "colab": {
          "base_uri": "https://localhost:8080/"
        },
        "id": "aOX21PzGAvuE",
        "outputId": "1d581f1b-2136-4ddf-f855-0eff12801ef9"
      },
      "source": [
        "x = int(input())\r\n",
        "b = 2\r\n",
        "if x==1:\r\n",
        "  print(-1)\r\n",
        "else:\r\n",
        "  if x%2==0:\r\n",
        "    a=x\r\n",
        "  else:\r\n",
        "    a= x-1\r\n",
        "\r\n",
        "  print(a,b)"
      ],
      "execution_count": 5,
      "outputs": [
        {
          "output_type": "stream",
          "text": [
            "2\n",
            "2 2\n"
          ],
          "name": "stdout"
        }
      ]
    },
    {
      "cell_type": "code",
      "metadata": {
        "colab": {
          "base_uri": "https://localhost:8080/"
        },
        "id": "_pbTVaIgKjhs",
        "outputId": "4c222559-b08d-4ec4-d43e-cdc0fd9716eb"
      },
      "source": [
        "x = int(input())\r\n",
        "if x == 1:\r\n",
        "  print(-1)\r\n",
        "else:\r\n",
        "  print(x,x)"
      ],
      "execution_count": 6,
      "outputs": [
        {
          "output_type": "stream",
          "text": [
            "212122\n",
            "212122 212122\n"
          ],
          "name": "stdout"
        }
      ]
    },
    {
      "cell_type": "code",
      "metadata": {
        "colab": {
          "base_uri": "https://localhost:8080/"
        },
        "id": "uptKD_ZENoX1",
        "outputId": "8f4d4c20-f03a-4979-a988-cf89bd0f0e94"
      },
      "source": [
        "x = int(input())\r\n",
        "if x==1:\r\n",
        "  print(-1)\r\n",
        "else:\r\n",
        "  if ( (int(x/2)+1) % 2)== 0:\r\n",
        "    print(int(x/2)+1, 2)\r\n",
        "  else:\r\n",
        "    print(int(x/2)+2, 2)"
      ],
      "execution_count": 7,
      "outputs": [
        {
          "output_type": "stream",
          "text": [
            "1212\n",
            "608 2\n"
          ],
          "name": "stdout"
        }
      ]
    }
  ]
}