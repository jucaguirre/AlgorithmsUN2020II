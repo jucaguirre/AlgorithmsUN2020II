{
 "cells": [
  {
   "cell_type": "markdown",
   "metadata": {
    "collapsed": false,
    "id": "vtY1shFnMal_"
   },
   "source": [
    "# SymPyLab\n",
    "\n",
    "SymPy’s documentation\n",
    "- https://docs.sympy.org/latest/index.html\n"
   ]
  },
  {
   "cell_type": "markdown",
   "metadata": {
    "collapsed": false,
    "id": "2U0fAIf5G4rR"
   },
   "source": [
    "## SymPy’s polynomials \n",
    "- https://docs.sympy.org/latest/modules/polys/basics.html#polynomials \n",
    "\n",
    "- (x-1)(x-2)(x-3)(x-4)(x-5)(x-6)(x-7)(x-8)(x-9)(x-10) = (x-1)(x-2)(x-3)(x-4)(x-5)(x-6)(x-7)(x-8)(x-9)(x-10)\n",
    "\n",
    "- (x-1)(x-2)(x-3)(x-4)(x-5)(x-6)(x-7)(x-8)(x-9)(x-10) / (x-1) = (x-2)(x-3)(x-4)(x-5)(x-6)(x-7)(x-8)(x-9)(x-10)"
   ]
  },
  {
   "cell_type": "markdown",
   "metadata": {
    "collapsed": false,
    "id": "GSRpl42A6UXg"
   },
   "source": [
    "<img src=\"https://github.com/aramonh/AlgorithmsUN2020II/blob/master/SymPyLab/sympylabwolfram1C.png\" /> <img src=\"https://github.com/aramonh/AlgorithmsUN2020II/blob/master/SymPyLab/sympylabwolfram3C.png\" />\n"
   ]
  },
  {
   "cell_type": "code",
   "execution_count": 1,
   "metadata": {
    "colab": {
     "base_uri": "https://localhost:8080/",
     "height": 156
    },
    "collapsed": false,
    "id": "Fw1yPZWLMb5P",
    "outputId": "29f091b4-5774-44bb-c542-827f1b0c9340"
   },
   "outputs": [
    {
     "name": "stdout",
     "output_type": "stream",
     "text": [
      "x**9 - 54*x**8 + 1266*x**7 - 16884*x**6 + 140889*x**5 - 761166*x**4 + 2655764*x**3 - 5753736*x**2 + 6999840*x - 3628800\n",
      "0\n",
      "x**8 - 52*x**7 + 1162*x**6 - 14560*x**5 + 111769*x**4 - 537628*x**3 + 1580508*x**2 - 2592720*x + 1814400\n",
      "0\n",
      "x**7 - 49*x**6 + 1015*x**5 - 11515*x**4 + 77224*x**3 - 305956*x**2 + 662640*x - 604800\n",
      "0\n",
      "x**6 - 45*x**5 + 835*x**4 - 8175*x**3 + 44524*x**2 - 127860*x + 151200\n",
      "0\n"
     ]
    }
   ],
   "source": [
    "from sympy import Symbol\n",
    "from sympy import div\n",
    "\n",
    "x = Symbol('x')\n",
    "\n",
    "p = (x-1)*(x-2)*(x-3)*(x-4)*(x-5)*(x-6)*(x-7)*(x-8)*(x-9)*(x-10)\n",
    "\n",
    "p, r = div(p,  x-1)\n",
    "\n",
    "print(p)\n",
    "print(r)\n",
    "\n",
    "p, r = div(p,  x-2)\n",
    "\n",
    "print(p)\n",
    "print(r)\n",
    "\n",
    "p, r = div(p,  x-3)\n",
    "\n",
    "print(p)\n",
    "print(r)\n",
    "\n",
    "p, r = div(p,  x-4)\n",
    "\n",
    "print(p)\n",
    "print(r)\n",
    "\n"
   ]
  },
  {
   "cell_type": "markdown",
   "metadata": {
    "collapsed": false,
    "id": "LrP1xT6VKZrE"
   },
   "source": [
    "## SymPy’s polynomial simple univariate polynomial factorization\n",
    "- https://docs.sympy.org/latest/modules/polys/wester.html#simple-univariate-polynomial-factorization\n",
    "- factor(x\\*\\*5 + 8\\*x\\*\\*4  - 15\\*x\\*\\*3 + 4\\*x - 12)"
   ]
  },
  {
   "cell_type": "markdown",
   "metadata": {
    "collapsed": false,
    "id": "2NPChCoPLsls"
   },
   "source": [
    "<img src=\"https://github.com/aramonh/AlgorithmsUN2020II/blob/master/SymPyLab/sympylabwolfram4C.png\" />\n"
   ]
  },
  {
   "cell_type": "code",
   "execution_count": 2,
   "metadata": {
    "colab": {
     "base_uri": "https://localhost:8080/",
     "height": 35
    },
    "collapsed": false,
    "id": "i2vHjXOIKvQu",
    "outputId": "2c0318d2-c5a1-4ab6-cff2-64661f69636e"
   },
   "outputs": [
    {
     "data": {
      "text/latex": [
       "$\\displaystyle x^{5} + 8 x^{4} - 15 x^{3} + 4 x - 12$"
      ],
      "text/plain": [
       "x**5 + 8*x**4 - 15*x**3 + 4*x - 12"
      ]
     },
     "execution_count": 2,
     "metadata": {
     },
     "output_type": "execute_result"
    }
   ],
   "source": [
    "from sympy import *\n",
    "x = Symbol('x')\n",
    "factor(x**5 + 8*x**4  - 15*x**3  + 4*x - 12)"
   ]
  },
  {
   "cell_type": "markdown",
   "metadata": {
    "collapsed": false,
    "id": "xoq8A5ipMdRa"
   },
   "source": [
    "## SymPy’s solvers\n",
    "- https://docs.sympy.org/latest/tutorial/solvers.html\n",
    "- x\\*\\*5 + 3\\*x\\*\\*4  + 2\\*x\\*\\*3 - 2\\*x\\*\\*2 + x +  8  = 0"
   ]
  },
  {
   "cell_type": "markdown",
   "metadata": {
    "collapsed": false,
    "id": "UpEjlqXZMk8i"
   },
   "source": [
    "<img src=\"https://github.com/aramonh/AlgorithmsUN2020II/blob/master/SymPyLab/sympylabwolfram5C.png\" />"
   ]
  },
  {
   "cell_type": "code",
   "execution_count": 3,
   "metadata": {
    "colab": {
     "base_uri": "https://localhost:8080/",
     "height": 35
    },
    "collapsed": false,
    "id": "DLzUsS8YMlNK",
    "outputId": "db5f1871-083d-41eb-cbc8-13903028fd9e"
   },
   "outputs": [
    {
     "data": {
      "text/latex": [
       "$\\displaystyle \\left\\{\\operatorname{CRootOf} {\\left(x^{5} + 3 x^{4} + 2 x^{3} - 2 x^{2} + x + 8, 0\\right)}, \\operatorname{CRootOf} {\\left(x^{5} + 3 x^{4} + 2 x^{3} - 2 x^{2} + x + 8, 1\\right)}, \\operatorname{CRootOf} {\\left(x^{5} + 3 x^{4} + 2 x^{3} - 2 x^{2} + x + 8, 2\\right)}, \\operatorname{CRootOf} {\\left(x^{5} + 3 x^{4} + 2 x^{3} - 2 x^{2} + x + 8, 3\\right)}, \\operatorname{CRootOf} {\\left(x^{5} + 3 x^{4} + 2 x^{3} - 2 x^{2} + x + 8, 4\\right)}\\right\\}$"
      ],
      "text/plain": [
       "FiniteSet(CRootOf(x**5 + 3*x**4 + 2*x**3 - 2*x**2 + x + 8, 0), CRootOf(x**5 + 3*x**4 + 2*x**3 - 2*x**2 + x + 8, 1), CRootOf(x**5 + 3*x**4 + 2*x**3 - 2*x**2 + x + 8, 2), CRootOf(x**5 + 3*x**4 + 2*x**3 - 2*x**2 + x + 8, 3), CRootOf(x**5 + 3*x**4 + 2*x**3 - 2*x**2 + x + 8, 4))"
      ]
     },
     "execution_count": 3,
     "metadata": {
     },
     "output_type": "execute_result"
    }
   ],
   "source": [
    "from sympy import *\n",
    "x = Symbol('x')\n",
    "solveset(Eq(x**5 + 3*x**4  + 2*x**3 - 2*x**2 + x + 8, 0), x)\n"
   ]
  },
  {
   "cell_type": "markdown",
   "metadata": {
    "collapsed": false,
    "id": "OtsxSwPmV3Vs"
   },
   "source": [
    "## SymPy’s Symbolic and Numercical Complex Evaluations\n",
    "- https://docs.sympy.org/latest/modules/evalf.html](https://)\n",
    "- x = 4*x1 + I*2*x2,y = 2*y1 + I*3*y2, z = I*z1 + 2*z2, x*y*z"
   ]
  },
  {
   "cell_type": "markdown",
   "metadata": {
    "collapsed": false,
    "id": "XxWt-AcaZxdp"
   },
   "source": [
    "<img src=\"https://github.com/aramonh/AlgorithmsUN2020II/blob/master/SymPyLab/sympylabwolfram7C.png\" />"
   ]
  },
  {
   "cell_type": "code",
   "execution_count": 5,
   "metadata": {
    "colab": {
     "base_uri": "https://localhost:8080/",
     "height": 124
    },
    "collapsed": false,
    "id": "ENDQbfLGV31r",
    "outputId": "5430a8de-95d1-428a-dec6-d9738c7d8632"
   },
   "outputs": [
    {
     "name": "stdout",
     "output_type": "stream",
     "text": [
      "(4*x1 + 2*I*x2)*(2*y1 + 3*I*y2)*(I*z1 + 2*z2)\n",
      "8*I*x1*y1*z1 + 16*x1*y1*z2 - 12*x1*y2*z1 + 24*I*x1*y2*z2 - 4*x2*y1*z1 + 8*I*x2*y1*z2 - 6*I*x2*y2*z1 - 12*x2*y2*z2\n",
      "8*I*x1*y1*z1 + 16*x1*y1*z2 - 12*x1*y2*z1 + 24*I*x1*y2*z2 - 4*x2*y1*z1 + 8*I*x2*y1*z2 - 6*I*x2*y2*z1 - 12*x2*y2*z2\n",
      "8*I*x1*y1*z1 + 16*x1*y1*z2 - 12*x1*y2*z1 + 24*I*x1*y2*z2 - 4*x2*y1*z1 + 8*I*x2*y1*z2 - 6*I*x2*y2*z1 - 12*x2*y2*z2\n",
      "w= 0.28902548222223624241 - 0.091999668350375232456*I\n"
     ]
    }
   ],
   "source": [
    "from sympy import *\n",
    "x1, x2, y1, y2, z1, z2 = symbols(\"x1 x2 y1 y2 z1 z2\", real=True)  \n",
    "x = 4*x1 + I*2*x2\n",
    "y = 2*y1 + I*3*y2\n",
    "z = I*z1 + 2*z2\n",
    "\n",
    "print(x*y*z)\n",
    "print(expand(x*y*z))\n",
    "print(expand((x*y)*z))\n",
    "print(expand(x*(y*z)))\n",
    "\n",
    "w=N(1/(pi + I), 20)\n",
    "print('w=',w)"
   ]
  },
  {
   "cell_type": "markdown",
   "metadata": {
    "collapsed": false,
    "id": "34c6tlW4JXJX"
   },
   "source": [
    "## SymPy’s integrals\n",
    "- https://docs.sympy.org/latest/modules/integrals/integrals.html\n",
    "- [risk-engineering.org](https://risk-engineering.org/notebook/monte-carlo-LHS.html)"
   ]
  },
  {
   "cell_type": "markdown",
   "metadata": {
    "collapsed": false,
    "id": "Y-h16ObloBhp"
   },
   "source": [
    "- integrate(2*x\\*\\*3 * cos(2*x)\\*\\*3)\n",
    "\n",
    "<img src=\"https://github.com/aramonh/AlgorithmsUN2020II/blob/master/SymPyLab/sympylabwolfram8C.png\" />"
   ]
  },
  {
   "cell_type": "code",
   "execution_count": 6,
   "metadata": {
    "colab": {
     "base_uri": "https://localhost:8080/",
     "height": 72
    },
    "collapsed": false,
    "id": "tOPpWf2uoI1w",
    "outputId": "eb3fb7b9-1994-4345-901c-b063ffbc0611"
   },
   "outputs": [
    {
     "name": "stdout",
     "output_type": "stream",
     "text": [
      "2*x**3*sin(2*x)**3/3 + x**3*sin(2*x)*cos(2*x)**2 + x**2*sin(2*x)**2*cos(2*x) + 7*x**2*cos(2*x)**3/6 - 10*x*sin(2*x)**3/9 - 7*x*sin(2*x)*cos(2*x)**2/6 - 5*sin(2*x)**2*cos(2*x)/9 - 61*cos(2*x)**3/108\n",
      "691.3580715420018\n"
     ]
    }
   ],
   "source": [
    "import sympy\n",
    "x = Symbol(\"x\")\n",
    "i = integrate(2*x**3 * cos(2*x)**3)\n",
    "print(i)\n",
    "print(float(i.subs(x, 10) - i.subs(x, 0)))"
   ]
  },
  {
   "cell_type": "markdown",
   "metadata": {
    "collapsed": false,
    "id": "eaqIgmnkPNVT"
   },
   "source": [
    "## Wolfram alpha answers quastion in natural languaje\n",
    "- What is the average temperature in Bogota in September?\n",
    "\n",
    "<img src=\"https://github.com/aramonh/AlgorithmsUN2020II/blob/master/SymPyLab/sympylabwolfram6C.png\" />"
   ]
  },
  {
   "cell_type": "code",
   "execution_count": 0,
   "metadata": {
    "collapsed": false
   },
   "outputs": [
   ],
   "source": [
   ]
  }
 ],
 "metadata": {
  "colab": {
   "collapsed_sections": [
   ],
   "name": "SymPyLab.ipynb",
   "provenance": [
   ]
  },
  "kernelspec": {
   "display_name": "Python 3 (system-wide)",
   "language": "python",
   "metadata": {
    "cocalc": {
     "description": "Python 3 programming language",
     "priority": 100,
     "url": "https://www.python.org/"
    }
   },
   "name": "python3"
  },
  "language_info": {
   "codemirror_mode": {
    "name": "ipython",
    "version": 3
   },
   "file_extension": ".py",
   "mimetype": "text/x-python",
   "name": "python",
   "nbconvert_exporter": "python",
   "pygments_lexer": "ipython3",
   "version": "3.8.5"
  }
 },
 "nbformat": 4,
 "nbformat_minor": 4
}