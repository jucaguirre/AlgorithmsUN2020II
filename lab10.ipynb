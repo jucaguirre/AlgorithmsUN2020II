{
  "nbformat": 4,
  "nbformat_minor": 0,
  "metadata": {
    "colab": {
      "name": "lab10.ipynb",
      "provenance": [],
      "collapsed_sections": [],
      "include_colab_link": true
    },
    "kernelspec": {
      "name": "python3",
      "display_name": "Python 3"
    }
  },
  "cells": [
    {
      "cell_type": "markdown",
      "metadata": {
        "id": "view-in-github",
        "colab_type": "text"
      },
      "source": [
        "<a href=\"https://colab.research.google.com/github/jucaguirrero/AlgorithmsUN2020II/blob/master/lab10.ipynb\" target=\"_parent\"><img src=\"https://colab.research.google.com/assets/colab-badge.svg\" alt=\"Open In Colab\"/></a>"
      ]
    },
    {
      "cell_type": "markdown",
      "metadata": {
        "id": "oO63m2LnVjW1"
      },
      "source": [
        "Grupo 15  lab 10 Bubble Sort\r\n",
        "\r\n",
        "Julio Cesar Aguirre Rojas/\r\n",
        "Santiago Arias Bareño/\r\n",
        "Adriano Ramon Hernandez/\r\n"
      ]
    },
    {
      "cell_type": "code",
      "metadata": {
        "id": "ENbUJ7z9XgQ6"
      },
      "source": [
        "from itertools import permutations \r\n",
        "import matplotlib.pyplot as plt\r\n",
        "import numpy as np\r\n",
        "\r\n",
        "from matplotlib import colors\r\n",
        "from matplotlib.ticker import PercentFormatter\r\n"
      ],
      "execution_count": 11,
      "outputs": []
    },
    {
      "cell_type": "code",
      "metadata": {
        "id": "bhp7OsVGa_PZ"
      },
      "source": [
        "\r\n",
        "def permutacion(v):\r\n",
        "  permuatacion=permutations(v)\r\n",
        "  return permuatacion"
      ],
      "execution_count": 12,
      "outputs": []
    },
    {
      "cell_type": "code",
      "metadata": {
        "id": "qEtA2B75ahhS"
      },
      "source": [
        "def cambios(v,i,j):\r\n",
        "  t=v[i]\r\n",
        "  v[i]=v[j]\r\n",
        "  v[j]=t\r\n",
        "\r\n",
        "  "
      ],
      "execution_count": 13,
      "outputs": []
    },
    {
      "cell_type": "code",
      "metadata": {
        "id": "_pw0HXGlP7gg"
      },
      "source": [
        "def bubblesort(v):\r\n",
        "  pasos=0\r\n",
        "  flag=0\r\n",
        "  cadena=v  \r\n",
        "  xr=range(0,len(cadena))\r\n",
        "  cadenabase=list(xr)\r\n",
        "  \r\n",
        "  for i in range(len(cadenabase)):\r\n",
        "      for j in reversed(cadenabase):\r\n",
        "\r\n",
        "        if flag >= len(cadena)-1:\r\n",
        "          return pasos\r\n",
        "        \r\n",
        "        if j >=i+1:\r\n",
        "          pasos=pasos+1\r\n",
        "          if cadena[j]<cadena[j-1]:\r\n",
        "            cambios(cadena,j,j-1)\r\n",
        "            pasos=pasos+1\r\n",
        "          else:\r\n",
        "            flag+=1\r\n",
        "      flag=0 \r\n",
        "  \r\n",
        "  return pasos\r\n",
        "\r\n",
        "  \r\n",
        "\r\n"
      ],
      "execution_count": 8,
      "outputs": []
    },
    {
      "cell_type": "code",
      "metadata": {
        "colab": {
          "base_uri": "https://localhost:8080/",
          "height": 380
        },
        "id": "sJPknq92ED4B",
        "outputId": "5485345e-ba45-484a-a978-cbf09ac64cdf"
      },
      "source": [
        "mensaje = \"ingrese n:\"\r\n",
        "n = input(mensaje)\r\n",
        "c = range(1,int(n)+1)\r\n",
        "v=list(c)\r\n",
        "pasos=0\r\n",
        "tamano=0\r\n",
        "frec=[]\r\n",
        "frec2=[]\r\n",
        "\r\n",
        "for j in range(0, int(n)*int(n)):\r\n",
        "  frec.append(0)\r\n",
        "\r\n",
        "permuta = permuatacion(v)\r\n",
        "\r\n",
        "for i in list(permuta):\r\n",
        "  \r\n",
        "  pasos += bubblesort(list(i))\r\n",
        "  frec[bubblesort(list(i))] += 1\r\n",
        "  frec2.append(bubblesort(list(i)))\r\n",
        "  tamano=tamano+1\r\n",
        "\r\n",
        "print(\"Pasos promedio: \",pasos/tamano, \"Total pasos: \",pasos,\"Permutaciones: \",tamano)\r\n",
        "\r\n",
        "frecp=[]\r\n",
        "\r\n",
        "for i in frec:\r\n",
        "  frecp.append(i/tamano) \r\n",
        "\r\n",
        "print(\"Frecuencia de los pasos: \",frec)\r\n",
        "print(\"Probabilidad de la frecuencia\",frecp)\r\n",
        "\r\n",
        "print(\"Pasos en cada permutacion: \",frec2)\r\n",
        "\r\n",
        "N_points = 100000\r\n",
        "n_bins = 20\r\n",
        "\r\n",
        "x = frec2\r\n",
        "\r\n",
        "fig, axs = plt.subplots(1, 2, tight_layout=True)\r\n",
        "\r\n",
        "\r\n",
        "N, bins, patches = axs[0].hist(x, bins=n_bins)\r\n",
        "\r\n",
        "# We'll color code by height, but you could use any scalar\r\n",
        "fracs = N / N.max()\r\n",
        "\r\n",
        "# we need to normalize the data to 0..1 for the full range of the colormap\r\n",
        "norm = colors.Normalize(fracs.min(), fracs.max())\r\n",
        "\r\n",
        "# Now, we'll loop through our objects and set the color of each accordingly\r\n",
        "for thisfrac, thispatch in zip(fracs, patches):\r\n",
        "    color = plt.cm.viridis(norm(thisfrac))\r\n",
        "    thispatch.set_facecolor(color)\r\n",
        "\r\n",
        "# We can also normalize our inputs by the total number of counts\r\n",
        "axs[1].hist(x, bins=n_bins, density=True)\r\n",
        "\r\n",
        "# Now we format the y-axis to display percentage\r\n",
        "axs[1].yaxis.set_major_formatter(PercentFormatter(xmax=max(frec2)))\r\n",
        "\r\n",
        "\r\n"
      ],
      "execution_count": 14,
      "outputs": [
        {
          "output_type": "stream",
          "text": [
            "Enter n:3\n",
            "Pasos promedio:  4.333333333333333 Total pasos:  26 Permutaciones:  6\n",
            "Frecuencia de los pasos:  [0, 0, 1, 0, 2, 2, 1, 0, 0]\n",
            "Probabilidad de la frecuencia [0.0, 0.0, 0.16666666666666666, 0.0, 0.3333333333333333, 0.3333333333333333, 0.16666666666666666, 0.0, 0.0]\n",
            "Pasos en cada permutacion:  [2, 4, 4, 5, 5, 6]\n"
          ],
          "name": "stdout"
        },
        {
          "output_type": "display_data",
          "data": {
            "image/png": "[encoded data removed]",
            "text/plain": [
              "<Figure size 432x288 with 2 Axes>"
            ]
          },
          "metadata": {
            "tags": [],
            "needs_background": "light"
          }
        }
      ]
    }
  ]
}